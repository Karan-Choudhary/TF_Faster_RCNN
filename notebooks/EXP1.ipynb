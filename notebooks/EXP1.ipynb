{
 "cells": [
  {
   "cell_type": "code",
   "execution_count": 12,
   "metadata": {},
   "outputs": [],
   "source": [
    "import numpy as np\n",
    "import tensorflow as tf"
   ]
  },
  {
   "cell_type": "markdown",
   "metadata": {},
   "source": [
    "## Anchor Generation Layer"
   ]
  },
  {
   "cell_type": "code",
   "execution_count": 76,
   "metadata": {},
   "outputs": [],
   "source": [
    "def _extract_cor(anchor):\n",
    "    \"\"\"\n",
    "    Return width, height, x center, and y center for an anchor (window).\n",
    "    \"\"\"\n",
    "    # anchor is 1X4\n",
    "    w = anchor[2] - anchor[0] + 1\n",
    "    h = anchor[3] - anchor[1] + 1\n",
    "    x_ctr = anchor[0] + 0.5 * (w - 1)\n",
    "    y_ctr = anchor[1] + 0.5*(w-1)\n",
    "    return w,h,x_ctr,y_ctr"
   ]
  },
  {
   "cell_type": "code",
   "execution_count": 77,
   "metadata": {},
   "outputs": [],
   "source": [
    "def _make_anchors(ws,hs,x_ctr,y_ctr):\n",
    "    \"\"\"\n",
    "    Given a vector of widths (ws) and heights (hs) around a center (x_ctr,y_ctr),\n",
    "    Return a set of anchor boxes in (w, h, x_ctr, y_ctr) format.\n",
    "    \"\"\"\n",
    "    # ws,hs,x_ctr,y_ctr are numpy arrays\n",
    "    w = ws[:,np.newaxis] # [1,4] -> [4,1] i.e it generate array of one more dimension\n",
    "    # print('w in mkanchors: ',w)\n",
    "    h = hs[:,np.newaxis] # [1,4] -> [4,1]\n",
    "    # print('h in mkanchors: ',h)\n",
    "    anchors = np.hstack((x_ctr - 0.5*(w-1),\n",
    "                                            y_ctr - 0.5*(h-1),\n",
    "                                            x_ctr + 0.5*(w-1),\n",
    "                                            y_ctr + 0.5*(h-1))) # horizontal stack\n",
    "    # print('anchors in mkanchors: ',anchors)\n",
    "    return anchors"
   ]
  },
  {
   "cell_type": "code",
   "execution_count": 78,
   "metadata": {},
   "outputs": [],
   "source": [
    "def _ratio_enum(anchor,ratios):\n",
    "    \"\"\"\n",
    "    Enumerate a set of anchors for each aspect ratio wrt an anchor.\n",
    "    \"\"\"\n",
    "    \n",
    "    w,h,x_ctr,y_ctr = _extract_cor(anchor)\n",
    "    # print(w,h,x_ctr,y_ctr)\n",
    "    size = w*h\n",
    "    # print('size='+str(size))\n",
    "    size_ratios = size/ratios\n",
    "    # print('size_ratios='+str(size_ratios))\n",
    "    ws = np.round(np.sqrt(size_ratios))\n",
    "    # print('ws='+str(ws))\n",
    "    hs = np.round(ws*ratios)\n",
    "    # print('hs='+str(hs))\n",
    "    anchors = _make_anchors(ws,hs,x_ctr,y_ctr)\n",
    "    # print('anchors in ratio_enu='+str(anchors))\n",
    "    return anchors"
   ]
  },
  {
   "cell_type": "code",
   "execution_count": 79,
   "metadata": {},
   "outputs": [],
   "source": [
    "def _scale_enum(anchor,scales):\n",
    "    \"\"\"\n",
    "    Enumerate a set of anchors for each scale wrt an anchor.\n",
    "    \"\"\"\n",
    "    w, h, x_ctr, y_ctr = _extract_cor(anchor)\n",
    "    # print(\"anchor in scle_enum=\"+str(anchor))\n",
    "    ws = w*scales\n",
    "    hs = h*scales\n",
    "    anchors = _make_anchors(ws,hs,x_ctr,y_ctr)\n",
    "    # print(\"Final anchors in scale_enum=\"+str(anchors))\n",
    "    return anchors"
   ]
  },
  {
   "cell_type": "code",
   "execution_count": 80,
   "metadata": {},
   "outputs": [],
   "source": [
    "#  It generates 9 anchor boxes from a base anchor box\n",
    "\n",
    "def generate_anchors(base_size=16,ratios=[0.5,1,2],scales=np.array([8,16,32])):\n",
    "    base_anchor = np.array([1,1,base_size,base_size]) - 1\n",
    "    # print(base_anchor)\n",
    "    ratio_anchors = _ratio_enum(base_anchor,ratios)\n",
    "    # print(ratio_anchors.shape)\n",
    "    anchors_list=[]\n",
    "    for i in range(ratio_anchors.shape[0]):\n",
    "        anc = _scale_enum(ratio_anchors[i,:],scales)\n",
    "        anchors_list.append(anc)\n",
    "    anchors = np.vstack(anchors_list)\n",
    "    return anchors"
   ]
  },
  {
   "cell_type": "code",
   "execution_count": 81,
   "metadata": {},
   "outputs": [
    {
     "data": {
      "text/plain": [
       "array([[ -84. ,  -34.5,   99. ,   60.5],\n",
       "       [-176. ,  -82.5,  191. ,  108.5],\n",
       "       [-360. , -178.5,  375. ,  204.5],\n",
       "       [ -56. ,  -56. ,   71. ,   71. ],\n",
       "       [-120. , -120. ,  135. ,  135. ],\n",
       "       [-248. , -248. ,  263. ,  263. ],\n",
       "       [ -36. ,  -85.5,   51. ,   89.5],\n",
       "       [ -80. , -173.5,   95. ,  177.5],\n",
       "       [-168. , -349.5,  183. ,  353.5]])"
      ]
     },
     "execution_count": 81,
     "metadata": {},
     "output_type": "execute_result"
    }
   ],
   "source": [
    "generate_anchors()"
   ]
  },
  {
   "cell_type": "code",
   "execution_count": 82,
   "metadata": {},
   "outputs": [],
   "source": [
    "# create uniformly spaced grid with spacing equal to stride\n",
    "\n",
    "def generate_anchors_pre_tf(height, width, feat_stride=16, anchor_scales=(8,16,32), anchor_ratios=(0.5,1,2)):\n",
    "    \"\"\"\n",
    "    A wrapper function to generate anchors given different scales and\n",
    "    ratios.\n",
    "    \"\"\"\n",
    "\n",
    "    shift_x = tf.range(width) * feat_stride # [0,16,32,48] width\n",
    "    shift_y = tf.range(height) * feat_stride # [0,16,32,48] height\n",
    "    shift_x, shift_y = tf.meshgrid(shift_x, shift_y) # meshgrid cols, rows , meshgrid generates a grid of points in ND space\n",
    "    # meshgrid enumerate shift_x row wise and shift_y col wise\n",
    "    shift_x = tf.reshape(shift_x, shape=(-1,)) # reshape to 1D\n",
    "    shift_y = tf.reshape(shift_y, shape=(-1,))\n",
    "    shifts = tf.stack((shift_x, shift_y, shift_x, shift_y), axis=1) # vertical stack by row\n",
    "    K = tf.multiply(width, height)\n",
    "    shifts = tf.transpose(tf.reshape(shifts,shape=[1,K,4]),perm=[1,0,2]) # reshaping into Kx1x4\n",
    "\n",
    "    anchors = generate_anchors(ratios=np.array(anchor_ratios), scales=np.array(anchor_scales)) # basic 9 anchor boxes of shape (9,4)\n",
    "    A = anchors.shape[0] # 9\n",
    "    anchor_constants = tf.constant(anchors.reshape((1, A, 4)), dtype=tf.int32) # reshape to 1x9x4\n",
    "    \n",
    "    length = K*A\n",
    "    anchors_tf = tf.reshape(tf.add(anchor_constants,shifts),shape=[length,4]) # add shift to anchors element wise\n",
    "    return tf.cast(anchors_tf,tf.float32),length"
   ]
  },
  {
   "cell_type": "code",
   "execution_count": 83,
   "metadata": {},
   "outputs": [
    {
     "name": "stdout",
     "output_type": "stream",
     "text": [
      "type of tensor_anchors:  <class 'tensorflow.python.framework.ops.EagerTensor'>\n",
      "tensor_anchors shape (16650, 4)\n",
      "length=tf.Tensor(16650, shape=(), dtype=int32)\n"
     ]
    }
   ],
   "source": [
    "tensor_anchors, length = generate_anchors_pre_tf(height=600//16,width=800//16)\n",
    "print(\"type of tensor_anchors: \",type(tensor_anchors))\n",
    "print(\"tensor_anchors shape\",tensor_anchors.shape)\n",
    "print(\"length=\"+str(length))"
   ]
  },
  {
   "cell_type": "markdown",
   "metadata": {},
   "source": [
    "## For Bounding box regression coefficients"
   ]
  },
  {
   "cell_type": "code",
   "execution_count": 1,
   "metadata": {},
   "outputs": [],
   "source": [
    "import numpy as np\n",
    "import tensorflow as tf"
   ]
  },
  {
   "cell_type": "code",
   "execution_count": 7,
   "metadata": {},
   "outputs": [],
   "source": [
    "# calculating bounding box regression coefficients\n",
    "def bbox_transform(original_rois,gt_rois):\n",
    "    original_widths = original_rois[:,2] - original_rois[:,0] + 1.0\n",
    "    original_heights = original_rois[:,3] - original_rois[:,1] + 1.0\n",
    "    original_ctr_x = original_rois[:,0] + 0.5 * original_widths\n",
    "    original_ctr_y = original_rois[:,1] + 0.5 * original_heights\n",
    "\n",
    "    gt_widths = gt_rois[:,2] - gt_rois[:,0] + 1.0\n",
    "    gt_heights = gt_rois[:,3] - gt_rois[:,1] + 1.0\n",
    "    gt_ctr_x = gt_rois[:,0] + 0.5 * gt_widths\n",
    "    gt_ctr_y = gt_rois[:,1] + 0.5 * gt_heights\n",
    "\n",
    "    targets_dx = (gt_ctr_x - original_ctr_x) / original_widths\n",
    "    targets_dy = (gt_ctr_y - original_ctr_y) / original_heights\n",
    "    targets_dw = np.log(gt_widths / original_widths)\n",
    "    targets_dh = np.log(gt_heights / original_heights)\n",
    "\n",
    "    targets = np.vstack((targets_dx, targets_dy, targets_dw, targets_dh)).transpose()\n",
    "    return targets"
   ]
  },
  {
   "cell_type": "code",
   "execution_count": 9,
   "metadata": {},
   "outputs": [
    {
     "data": {
      "text/plain": [
       "array([[0.05882353, 0.05882353, 0.        , 0.        ],\n",
       "       [0.03030303, 0.03030303, 0.        , 0.        ]])"
      ]
     },
     "execution_count": 9,
     "metadata": {},
     "output_type": "execute_result"
    }
   ],
   "source": [
    "bbox_transform(np.array([[-1,-1,15,15],[-1,-1,31,31]]),np.array([[0,0,16,16],[0,0,32,32]]))"
   ]
  }
 ],
 "metadata": {
  "interpreter": {
   "hash": "578ce72e72bd9f13049fd4c13d9f5b1c81715c13ddea0a3c61ff70756cb5d6d4"
  },
  "kernelspec": {
   "display_name": "Python 3.9.2 64-bit",
   "language": "python",
   "name": "python3"
  },
  "language_info": {
   "codemirror_mode": {
    "name": "ipython",
    "version": 3
   },
   "file_extension": ".py",
   "mimetype": "text/x-python",
   "name": "python",
   "nbconvert_exporter": "python",
   "pygments_lexer": "ipython3",
   "version": "3.9.2"
  },
  "orig_nbformat": 4
 },
 "nbformat": 4,
 "nbformat_minor": 2
}
